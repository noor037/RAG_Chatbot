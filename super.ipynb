{
 "cells": [
  {
   "cell_type": "code",
   "execution_count": null,
   "id": "fbbac0d2",
   "metadata": {},
   "outputs": [],
   "source": [
    "pip install sentence-transformers groq faiss-cpu\n"
   ]
  },
  {
   "cell_type": "code",
   "execution_count": 6,
   "id": "0e539f61",
   "metadata": {},
   "outputs": [],
   "source": [
    "import os\n",
    "import numpy as np\n",
    "from sentence_transformers import SentenceTransformer\n",
    "from groq import Groq\n",
    "import faiss\n",
    "import json\n",
    "import requests\n",
    "from dotenv import load_dotenv\n",
    "\n"
   ]
  },
  {
   "cell_type": "code",
   "execution_count": 7,
   "id": "8c2d250d",
   "metadata": {},
   "outputs": [],
   "source": [
    "load_dotenv()\n",
    "client = os.getenv(\"GROQ_API_KEY\")\n"
   ]
  },
  {
   "cell_type": "code",
   "execution_count": 8,
   "id": "a2b103d4",
   "metadata": {},
   "outputs": [],
   "source": [
    "# Initialize Groq client\n",
    "# GROQ_API_KEY = userdata.get('GROQ_API_KEY')\n",
    "llm_model = \"llama-3.3-70b-versatile\"\n",
    "\n",
    "API_URL = \"https://api.groq.com/openai/v1/chat/completions\""
   ]
  },
  {
   "cell_type": "code",
   "execution_count": 9,
   "id": "72dc5cde",
   "metadata": {},
   "outputs": [
    {
     "name": "stderr",
     "output_type": "stream",
     "text": [
      "c:\\Users\\acer\\Desktop\\Rag_Bot\\venv\\Lib\\site-packages\\huggingface_hub\\file_download.py:143: UserWarning: `huggingface_hub` cache-system uses symlinks by default to efficiently store duplicated files but your machine does not support them in C:\\Users\\acer\\.cache\\huggingface\\hub\\models--sentence-transformers--all-MiniLM-L6-v2. Caching files will still work but in a degraded version that might require more space on your disk. This warning can be disabled by setting the `HF_HUB_DISABLE_SYMLINKS_WARNING` environment variable. For more details, see https://huggingface.co/docs/huggingface_hub/how-to-cache#limitations.\n",
      "To support symlinks on Windows, you either need to activate Developer Mode or to run Python as an administrator. In order to activate developer mode, see this article: https://docs.microsoft.com/en-us/windows/apps/get-started/enable-your-device-for-development\n",
      "  warnings.warn(message)\n",
      "Xet Storage is enabled for this repo, but the 'hf_xet' package is not installed. Falling back to regular HTTP download. For better performance, install the package with: `pip install huggingface_hub[hf_xet]` or `pip install hf_xet`\n"
     ]
    },
    {
     "data": {
      "text/plain": [
       "384"
      ]
     },
     "execution_count": 9,
     "metadata": {},
     "output_type": "execute_result"
    }
   ],
   "source": [
    "\"\"\"**Step 3: Load the Embedding Model**\"\"\"\n",
    "\n",
    "# Load the embedding model\n",
    "embedding_model = SentenceTransformer('sentence-transformers/all-MiniLM-L6-v2')\n",
    "embedding_dim = embedding_model.get_sentence_embedding_dimension()  # Typically 384 for this model\n",
    "\n",
    "embedding_dim"
   ]
  },
  {
   "cell_type": "code",
   "execution_count": 10,
   "id": "39298a06",
   "metadata": {},
   "outputs": [],
   "source": [
    "\"\"\"**Step 4: Prepare Your Documents**\"\"\"\n",
    "\n",
    "# Sample documents (replace with your own)\n",
    "documents = [\n",
    "    \"The capital of France is Paris.\",\n",
    "    \"Python is a popular programming language.\",\n",
    "    \"Machine learning is a subset of artificial intelligence.\",\n",
    "    \"The Eiffel Tower is in Paris.\",\n",
    "    \"Groq provides fast AI inference.\"\n",
    "]"
   ]
  },
  {
   "cell_type": "code",
   "execution_count": 11,
   "id": "47dd1c4e",
   "metadata": {},
   "outputs": [],
   "source": [
    "\n",
    "\"\"\"**Step 5: Generate Embeddings for Documents**\"\"\"\n",
    "\n",
    "# Generate embeddings\n",
    "doc_embeddings = embedding_model.encode(documents)\n",
    "doc_embeddings = np.array(doc_embeddings).astype('float32')  # FAISS requires float32\n"
   ]
  },
  {
   "cell_type": "code",
   "execution_count": 12,
   "id": "80da8dea",
   "metadata": {},
   "outputs": [],
   "source": [
    "\"\"\"**Step 6: Set Up FAISS Vector Database**\"\"\"\n",
    "\n",
    "# Create FAISS index\n",
    "index = faiss.IndexFlatL2(embedding_dim)  # L2 distance metric\n",
    "index.add(doc_embeddings)  # Add document embeddings to the index"
   ]
  },
  {
   "cell_type": "code",
   "execution_count": 15,
   "id": "5c54e865",
   "metadata": {},
   "outputs": [],
   "source": [
    "\n",
    "\"\"\"**Step 7: Define the Retrieval Function**\"\"\"\n",
    "\n",
    "def retrieve_documents(query, top_k=3):\n",
    "    # Embed the query\n",
    "    query_embedding = embedding_model.encode([query])\n",
    "    query_embedding = np.array(query_embedding).astype('float32')\n",
    "\n",
    "    # Search in FAISS\n",
    "    distances, indices = index.search(query_embedding, top_k)\n",
    "\n",
    "    # print(distances, indices)\n",
    "\n",
    "    # Retrieve the matching documents\n",
    "    retrieved_docs = [documents[i] for i in indices[0]]\n",
    "    return retrieved_docs\n",
    "\n",
    "def generate_response(query, retrieved_docs, temperature=0.4):\n",
    "\n",
    "    # Create context from retrieved documents\n",
    "    context = \"\\n\".join([f\"- {doc}\" for doc in retrieved_docs])\n",
    "\n",
    "    # Refined prompt template\n",
    "    prompt = f\"\"\"\n",
    "            You are a concise and accurate assistant. Use the provided context to answer the query directly and clearly. If the context doesn't contain relevant information, Then simply say **Can't provide a valid ans**.\n",
    "\n",
    "            Context:\n",
    "            {context}\n",
    "\n",
    "            Query: {query}\n",
    "\n",
    "            Answer:\n",
    "            \"\"\"\n",
    "\n",
    "    # Prepare headers and data for Groq API\n",
    "    headers = {\n",
    "        \"Authorization\": f\"Bearer {client}\",\n",
    "        \"Content-Type\": \"application/json\"\n",
    "    }\n",
    "\n",
    "    data = {\n",
    "        \"model\": llm_model,\n",
    "        \"messages\": [\n",
    "            {\"role\": \"system\", \"content\": \"You are a helpful assistant.\"},\n",
    "            {\"role\": \"user\", \"content\": prompt}\n",
    "        ],\n",
    "        \"temperature\": temperature\n",
    "    }\n",
    "\n",
    "    try:\n",
    "        # Send request to Groq API\n",
    "        response = requests.post(API_URL, headers=headers, data=json.dumps(data))\n",
    "\n",
    "        # Check response status\n",
    "        if response.status_code == 200:\n",
    "            response_data = response.json()\n",
    "            return response_data['choices'][0]['message']['content'].strip()\n",
    "        else:\n",
    "            return f\"Error: API returned status code {response.status_code}: {response.text}\"\n",
    "\n",
    "    except requests.RequestException as e:\n",
    "        return f\"Error in API request: {str(e)}\"\n"
   ]
  },
  {
   "cell_type": "code",
   "execution_count": 16,
   "id": "22498796",
   "metadata": {},
   "outputs": [
    {
     "name": "stdout",
     "output_type": "stream",
     "text": [
      "Retrieved Documents: ['Python is a popular programming language.', 'Machine learning is a subset of artificial intelligence.']\n",
      "Generated Response: **Can't provide a valid answer**\n"
     ]
    }
   ],
   "source": [
    "\n",
    "# Example usage\n",
    "# query = \"What is the capital of France?\"\n",
    "\n",
    "query = \"What is Django?\"\n",
    "\n",
    "\n",
    "retrieved = retrieve_documents(query, top_k=2)\n",
    "print(\"Retrieved Documents:\", retrieved)\n",
    "\n",
    "response = generate_response(query, retrieved)\n",
    "print(\"Generated Response:\", response)\n",
    "\n",
    "\n"
   ]
  },
  {
   "cell_type": "code",
   "execution_count": null,
   "id": "fd981960",
   "metadata": {},
   "outputs": [],
   "source": []
  }
 ],
 "metadata": {
  "kernelspec": {
   "display_name": "venv",
   "language": "python",
   "name": "python3"
  },
  "language_info": {
   "codemirror_mode": {
    "name": "ipython",
    "version": 3
   },
   "file_extension": ".py",
   "mimetype": "text/x-python",
   "name": "python",
   "nbconvert_exporter": "python",
   "pygments_lexer": "ipython3",
   "version": "3.13.5"
  }
 },
 "nbformat": 4,
 "nbformat_minor": 5
}
